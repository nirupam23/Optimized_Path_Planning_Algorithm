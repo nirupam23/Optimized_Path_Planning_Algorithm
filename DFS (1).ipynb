{
 "cells": [
  {
   "cell_type": "code",
   "execution_count": 1,
   "id": "f606774f-b310-4310-8a12-ee53bd0abb98",
   "metadata": {},
   "outputs": [
    {
     "name": "stdout",
     "output_type": "stream",
     "text": [
      "Path matrix (0 means no path, positive numbers indicate steps taken):\n",
      "[[ 1.  0.  0.  0.  0.  0.  0.  0.  0.  0.]\n",
      " [ 2.  0.  0.  0.  0.  0.  0.  0.  0.  0.]\n",
      " [ 3.  0.  0.  0.  0.  0.  0.  0.  0.  0.]\n",
      " [ 4.  0.  0.  0.  0.  0.  0.  0.  0.  0.]\n",
      " [ 5.  0.  0.  0.  0.  0.  0.  0.  0.  0.]\n",
      " [ 6.  0.  0. 41. 42. 43. 44. 45. 46. 47.]\n",
      " [ 7.  0.  0. 40. 39. 38. 37. 36. 35. 34.]\n",
      " [ 8.  0.  0. 27. 28. 29. 30. 31. 32. 33.]\n",
      " [ 9.  0.  0. 26. 25. 24. 23. 22. 21. 20.]\n",
      " [10. 11. 12. 13. 14. 15. 16. 17. 18. 19.]]\n",
      "Number of moves to reach the goal: 47\n"
     ]
    }
   ],
   "source": [
    "import numpy as np\n",
    "\n",
    "start = np.array([0, 0])\n",
    "goal = np.array([5, 9])\n",
    "grid = np.zeros((10, 10))\n",
    "grid[:9, 1:3] = 1  # Creating some obstacles\n",
    "\n",
    "path = np.zeros((len(grid), len(grid[0])))\n",
    "\n",
    "class DFS:\n",
    "    def __init__(self, start, goal, grid, path):\n",
    "        self.start = start\n",
    "        self.goal = goal\n",
    "        self.grid = grid\n",
    "        self.path = path\n",
    "        self.found = False\n",
    "\n",
    "    def valid_move(self, position):\n",
    "        if (0 <= position[0] < self.grid.shape[0] and\n",
    "            0 <= position[1] < self.grid.shape[1] and\n",
    "            self.grid[position[0], position[1]] == 0 and\n",
    "            self.path[position[0], position[1]] == 0):  # '0' means free space and not visited\n",
    "            return True\n",
    "        return False\n",
    "\n",
    "    def dfs(self, position, depth):\n",
    "        if not self.valid_move(position) or self.found:\n",
    "            return False\n",
    "\n",
    "        self.path[position[0], position[1]] = depth\n",
    "\n",
    "        if np.array_equal(position, self.goal):\n",
    "            self.found = True\n",
    "            return True\n",
    "\n",
    "        # Explore neighbors (right, left, down, up)\n",
    "        moves = [\n",
    "            position + np.array([0, 1]),  # Right\n",
    "            position + np.array([1, 0]),  # Down\n",
    "            position + np.array([0, -1]),  # Left\n",
    "            position + np.array([-1, 0]),  # Up\n",
    "        ]\n",
    "\n",
    "        for move in moves:\n",
    "            if self.dfs(move, depth + 1):\n",
    "                return True\n",
    "\n",
    "        # Backtrack\n",
    "        self.path[position[0], position[1]] = 0\n",
    "        return False\n",
    "\n",
    "# Run the DFS algorithm\n",
    "dfs = DFS(start, goal, grid, path)\n",
    "dfs.dfs(start, 1)\n",
    "\n",
    "# Output the path matrix\n",
    "print(\"Path matrix (0 means no path, positive numbers indicate steps taken):\")\n",
    "print(dfs.path)\n",
    "\n",
    "# Output the number of moves\n",
    "path_steps = dfs.path[dfs.path > 0]\n",
    "print(f\"Number of moves to reach the goal: {len(path_steps)}\")\n"
   ]
  },
  {
   "cell_type": "code",
   "execution_count": null,
   "id": "bde55dbf-fe38-46d3-ac3b-2fd288acc14e",
   "metadata": {},
   "outputs": [],
   "source": []
  }
 ],
 "metadata": {
  "kernelspec": {
   "display_name": "Python 3 (ipykernel)",
   "language": "python",
   "name": "python3"
  },
  "language_info": {
   "codemirror_mode": {
    "name": "ipython",
    "version": 3
   },
   "file_extension": ".py",
   "mimetype": "text/x-python",
   "name": "python",
   "nbconvert_exporter": "python",
   "pygments_lexer": "ipython3",
   "version": "3.8.18"
  }
 },
 "nbformat": 4,
 "nbformat_minor": 5
}
